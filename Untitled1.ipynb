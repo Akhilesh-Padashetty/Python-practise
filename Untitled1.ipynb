{
 "cells": [
  {
   "cell_type": "code",
   "execution_count": 1,
   "id": "d374111d",
   "metadata": {},
   "outputs": [
    {
     "name": "stdout",
     "output_type": "stream",
     "text": [
      "5\n",
      "3\n",
      "2\n"
     ]
    },
    {
     "data": {
      "text/plain": [
       "2"
      ]
     },
     "execution_count": 1,
     "metadata": {},
     "output_type": "execute_result"
    }
   ],
   "source": [
    "a=5\n",
    "print(a)\n",
    "b=3\n",
    "print(b)\n",
    "A=2\n",
    "print(A)\n",
    "A"
   ]
  },
  {
   "cell_type": "code",
   "execution_count": 2,
   "id": "3001e179",
   "metadata": {},
   "outputs": [
    {
     "name": "stdout",
     "output_type": "stream",
     "text": [
      "3\n"
     ]
    }
   ],
   "source": [
    "b=3\n",
    "print(b)"
   ]
  },
  {
   "cell_type": "code",
   "execution_count": 3,
   "id": "2fe7861a",
   "metadata": {},
   "outputs": [
    {
     "data": {
      "text/plain": [
       "4"
      ]
     },
     "execution_count": 3,
     "metadata": {},
     "output_type": "execute_result"
    }
   ],
   "source": [
    "b=4\n",
    "b"
   ]
  },
  {
   "cell_type": "code",
   "execution_count": 4,
   "id": "798a05b1",
   "metadata": {},
   "outputs": [
    {
     "name": "stdout",
     "output_type": "stream",
     "text": [
      "4\n",
      "5\n",
      "6\n"
     ]
    }
   ],
   "source": [
    "Python=4\n",
    "PYTHON=5\n",
    "python=6\n",
    "print(Python)\n",
    "print(PYTHON)\n",
    "print(python)\n"
   ]
  },
  {
   "cell_type": "code",
   "execution_count": 5,
   "id": "ff60fbc6",
   "metadata": {},
   "outputs": [
    {
     "name": "stdout",
     "output_type": "stream",
     "text": [
      "2818620746128\n"
     ]
    },
    {
     "data": {
      "text/plain": [
       "4"
      ]
     },
     "execution_count": 5,
     "metadata": {},
     "output_type": "execute_result"
    }
   ],
   "source": [
    "A=4\n",
    "print(id(A))\n",
    "A"
   ]
  },
  {
   "cell_type": "code",
   "execution_count": 6,
   "id": "c37f3889",
   "metadata": {},
   "outputs": [
    {
     "name": "stdout",
     "output_type": "stream",
     "text": [
      "4\n"
     ]
    },
    {
     "ename": "NameError",
     "evalue": "name 'A' is not defined",
     "output_type": "error",
     "traceback": [
      "\u001b[1;31m---------------------------------------------------------------------------\u001b[0m",
      "\u001b[1;31mNameError\u001b[0m                                 Traceback (most recent call last)",
      "Input \u001b[1;32mIn [6]\u001b[0m, in \u001b[0;36m<cell line: 3>\u001b[1;34m()\u001b[0m\n\u001b[0;32m      1\u001b[0m \u001b[38;5;28mprint\u001b[39m(A)\n\u001b[0;32m      2\u001b[0m \u001b[38;5;28;01mdel\u001b[39;00m(A)\n\u001b[1;32m----> 3\u001b[0m \u001b[43mA\u001b[49m\n",
      "\u001b[1;31mNameError\u001b[0m: name 'A' is not defined"
     ]
    }
   ],
   "source": [
    "print(A)\n",
    "del(A)\n",
    "A"
   ]
  },
  {
   "cell_type": "code",
   "execution_count": null,
   "id": "b7ae88da",
   "metadata": {},
   "outputs": [],
   "source": [
    "#Division\n",
    "9/2"
   ]
  },
  {
   "cell_type": "code",
   "execution_count": null,
   "id": "f91b5bd0",
   "metadata": {},
   "outputs": [],
   "source": [
    "#power\n",
    "9**2"
   ]
  },
  {
   "cell_type": "code",
   "execution_count": null,
   "id": "7de813e1",
   "metadata": {},
   "outputs": [],
   "source": [
    "#Floor\n",
    "9//2"
   ]
  },
  {
   "cell_type": "code",
   "execution_count": null,
   "id": "27d28384",
   "metadata": {},
   "outputs": [],
   "source": [
    "#Addition\n",
    "9+2"
   ]
  },
  {
   "cell_type": "code",
   "execution_count": 7,
   "id": "81f88f65",
   "metadata": {},
   "outputs": [
    {
     "data": {
      "text/plain": [
       "7"
      ]
     },
     "execution_count": 7,
     "metadata": {},
     "output_type": "execute_result"
    }
   ],
   "source": [
    "#substraction\n",
    "9-2"
   ]
  },
  {
   "cell_type": "code",
   "execution_count": 8,
   "id": "4fdc9275",
   "metadata": {},
   "outputs": [
    {
     "data": {
      "text/plain": [
       "18"
      ]
     },
     "execution_count": 8,
     "metadata": {},
     "output_type": "execute_result"
    }
   ],
   "source": [
    "#Multiplication\n",
    "9*2"
   ]
  },
  {
   "cell_type": "code",
   "execution_count": 9,
   "id": "f8eec429",
   "metadata": {},
   "outputs": [
    {
     "data": {
      "text/plain": [
       "int"
      ]
     },
     "execution_count": 9,
     "metadata": {},
     "output_type": "execute_result"
    }
   ],
   "source": [
    "Data_Science=5\n",
    "type(Data_Science)"
   ]
  },
  {
   "cell_type": "code",
   "execution_count": 10,
   "id": "4f8c52dc",
   "metadata": {},
   "outputs": [
    {
     "data": {
      "text/plain": [
       "int"
      ]
     },
     "execution_count": 10,
     "metadata": {},
     "output_type": "execute_result"
    }
   ],
   "source": [
    "b=6\n",
    "type(b)"
   ]
  },
  {
   "cell_type": "code",
   "execution_count": 11,
   "id": "5323a26f",
   "metadata": {},
   "outputs": [
    {
     "data": {
      "text/plain": [
       "float"
      ]
     },
     "execution_count": 11,
     "metadata": {},
     "output_type": "execute_result"
    }
   ],
   "source": [
    "b=5.6\n",
    "type(b)"
   ]
  },
  {
   "cell_type": "code",
   "execution_count": 12,
   "id": "253484f2",
   "metadata": {},
   "outputs": [
    {
     "data": {
      "text/plain": [
       "str"
      ]
     },
     "execution_count": 12,
     "metadata": {},
     "output_type": "execute_result"
    }
   ],
   "source": [
    "S='Data science'\n",
    "type(S)"
   ]
  },
  {
   "cell_type": "code",
   "execution_count": 13,
   "id": "e6be1c95",
   "metadata": {},
   "outputs": [
    {
     "data": {
      "text/plain": [
       "complex"
      ]
     },
     "execution_count": 13,
     "metadata": {},
     "output_type": "execute_result"
    }
   ],
   "source": [
    "w=5+6j\n",
    "type(w)"
   ]
  },
  {
   "cell_type": "code",
   "execution_count": 14,
   "id": "23f513a2",
   "metadata": {},
   "outputs": [
    {
     "data": {
      "text/plain": [
       "complex"
      ]
     },
     "execution_count": 14,
     "metadata": {},
     "output_type": "execute_result"
    }
   ],
   "source": [
    "type(5j)"
   ]
  },
  {
   "cell_type": "code",
   "execution_count": 15,
   "id": "641db08b",
   "metadata": {},
   "outputs": [
    {
     "name": "stdout",
     "output_type": "stream",
     "text": [
      "<class 'bool'>\n",
      "<class 'bool'>\n"
     ]
    }
   ],
   "source": [
    "a=False\n",
    "b=True\n",
    "print(type(a))\n",
    "print(type(b))"
   ]
  },
  {
   "cell_type": "code",
   "execution_count": 16,
   "id": "f4d237e4",
   "metadata": {},
   "outputs": [
    {
     "ename": "NameError",
     "evalue": "name 'TRUE' is not defined",
     "output_type": "error",
     "traceback": [
      "\u001b[1;31m---------------------------------------------------------------------------\u001b[0m",
      "\u001b[1;31mNameError\u001b[0m                                 Traceback (most recent call last)",
      "Input \u001b[1;32mIn [16]\u001b[0m, in \u001b[0;36m<cell line: 1>\u001b[1;34m()\u001b[0m\n\u001b[1;32m----> 1\u001b[0m a\u001b[38;5;241m=\u001b[39m\u001b[43mTRUE\u001b[49m\n\u001b[0;32m      2\u001b[0m a\n",
      "\u001b[1;31mNameError\u001b[0m: name 'TRUE' is not defined"
     ]
    }
   ],
   "source": [
    "a=TRUE\n",
    "a"
   ]
  },
  {
   "cell_type": "code",
   "execution_count": 17,
   "id": "0e8af3b0",
   "metadata": {},
   "outputs": [
    {
     "name": "stdout",
     "output_type": "stream",
     "text": [
      "<class 'bool'>\n"
     ]
    },
    {
     "data": {
      "text/plain": [
       "bool"
      ]
     },
     "execution_count": 17,
     "metadata": {},
     "output_type": "execute_result"
    }
   ],
   "source": [
    "a=False\n",
    "b=True\n",
    "print(type(a))\n",
    "type(b)"
   ]
  },
  {
   "cell_type": "code",
   "execution_count": 18,
   "id": "654517a9",
   "metadata": {},
   "outputs": [],
   "source": [
    "a=True\n",
    "b='TRUE'\n",
    "c='True'"
   ]
  },
  {
   "cell_type": "code",
   "execution_count": 19,
   "id": "17091982",
   "metadata": {},
   "outputs": [
    {
     "name": "stdout",
     "output_type": "stream",
     "text": [
      "<class 'bool'>\n",
      "<class 'str'>\n",
      "<class 'str'>\n"
     ]
    }
   ],
   "source": [
    "print(type(a))\n",
    "print(type(b))\n",
    "print(type(c))"
   ]
  },
  {
   "cell_type": "code",
   "execution_count": 20,
   "id": "15bf74d1",
   "metadata": {},
   "outputs": [
    {
     "data": {
      "text/plain": [
       "str"
      ]
     },
     "execution_count": 20,
     "metadata": {},
     "output_type": "execute_result"
    }
   ],
   "source": [
    "a='9'\n",
    "type(a)"
   ]
  },
  {
   "cell_type": "code",
   "execution_count": 21,
   "id": "21a70b2c",
   "metadata": {},
   "outputs": [
    {
     "data": {
      "text/plain": [
       "'+918435815151'"
      ]
     },
     "execution_count": 21,
     "metadata": {},
     "output_type": "execute_result"
    }
   ],
   "source": [
    "a='+91'\n",
    "b='8435815151'\n",
    "a+''+b"
   ]
  },
  {
   "cell_type": "code",
   "execution_count": 22,
   "id": "245338b8",
   "metadata": {},
   "outputs": [
    {
     "data": {
      "text/plain": [
       "'+918435815151'"
      ]
     },
     "execution_count": 22,
     "metadata": {},
     "output_type": "execute_result"
    }
   ],
   "source": [
    "a+b"
   ]
  },
  {
   "cell_type": "code",
   "execution_count": 23,
   "id": "9fdeca0b",
   "metadata": {},
   "outputs": [
    {
     "data": {
      "text/plain": [
       "'+918435815151'"
      ]
     },
     "execution_count": 23,
     "metadata": {},
     "output_type": "execute_result"
    }
   ],
   "source": [
    "a+''+b[0:5]+''+b[5:]"
   ]
  },
  {
   "cell_type": "code",
   "execution_count": 24,
   "id": "b323ddbe",
   "metadata": {},
   "outputs": [
    {
     "data": {
      "text/plain": [
       "'+918435815151'"
      ]
     },
     "execution_count": 24,
     "metadata": {},
     "output_type": "execute_result"
    }
   ],
   "source": [
    "a+''+b[:5]+''+b[5:]"
   ]
  },
  {
   "cell_type": "code",
   "execution_count": 25,
   "id": "f9914602",
   "metadata": {},
   "outputs": [
    {
     "name": "stdout",
     "output_type": "stream",
     "text": [
      "6\n",
      "678\n",
      "6789\n"
     ]
    }
   ],
   "source": [
    "b='123456789'\n",
    "print(b[-4])\n",
    "print(b[-4:-1])\n",
    "print(b[-4:])"
   ]
  },
  {
   "cell_type": "code",
   "execution_count": 26,
   "id": "74bbe525",
   "metadata": {},
   "outputs": [
    {
     "name": "stdout",
     "output_type": "stream",
     "text": [
      "7\n",
      "2818620746224\n",
      "8\n",
      "2818620746256\n"
     ]
    },
    {
     "data": {
      "text/plain": [
       "16"
      ]
     },
     "execution_count": 26,
     "metadata": {},
     "output_type": "execute_result"
    }
   ],
   "source": [
    "b=7\n",
    "print(b)\n",
    "print(id(b))\n",
    "b=8\n",
    "print(b)\n",
    "print(id(b))\n",
    "a=b+b\n",
    "a"
   ]
  },
  {
   "cell_type": "code",
   "execution_count": 27,
   "id": "7a7416b5",
   "metadata": {
    "collapsed": true
   },
   "outputs": [
    {
     "name": "stdout",
     "output_type": "stream",
     "text": [
      "5\n",
      "10\n",
      "15\n",
      "10\n",
      "20\n"
     ]
    }
   ],
   "source": [
    "#Creating object 'DS' with value 5\n",
    "DS=5\n",
    "print(DS)\n",
    "#Creating object 'Python' with value 10\n",
    "Python=10\n",
    "print(Python)\n",
    "print(DS+Python)\n",
    "DS=Python\n",
    "print(DS)\n",
    "print(DS+Python)"
   ]
  },
  {
   "cell_type": "code",
   "execution_count": 2,
   "id": "64a9e9ea",
   "metadata": {},
   "outputs": [],
   "source": [
    "list1=['python','java',2013,2018,[1,2,3,4],54.3,89.2,3+4j,True,False]"
   ]
  },
  {
   "cell_type": "code",
   "execution_count": 3,
   "id": "8016d2af",
   "metadata": {},
   "outputs": [
    {
     "data": {
      "text/plain": [
       "['python', 'java', 2013, 2018, [1, 2, 3, 4], 54.3, 89.2, (3+4j), True, False]"
      ]
     },
     "execution_count": 3,
     "metadata": {},
     "output_type": "execute_result"
    }
   ],
   "source": [
    "list1"
   ]
  },
  {
   "cell_type": "code",
   "execution_count": 4,
   "id": "4c027128",
   "metadata": {},
   "outputs": [
    {
     "name": "stdout",
     "output_type": "stream",
     "text": [
      "['python', 'java', 2013, 2018, [1, 2, 3, 4], 54.3, 89.2, (3+4j), True, False]\n"
     ]
    }
   ],
   "source": [
    "print(list1)"
   ]
  },
  {
   "cell_type": "code",
   "execution_count": 6,
   "id": "6c182883",
   "metadata": {},
   "outputs": [
    {
     "data": {
      "text/plain": [
       "2018"
      ]
     },
     "execution_count": 6,
     "metadata": {},
     "output_type": "execute_result"
    }
   ],
   "source": [
    "list1[3]"
   ]
  },
  {
   "cell_type": "code",
   "execution_count": 7,
   "id": "ad4bbe9f",
   "metadata": {},
   "outputs": [
    {
     "data": {
      "text/plain": [
       "89.2"
      ]
     },
     "execution_count": 7,
     "metadata": {},
     "output_type": "execute_result"
    }
   ],
   "source": [
    "list1[6]"
   ]
  },
  {
   "cell_type": "code",
   "execution_count": 11,
   "id": "b992753d",
   "metadata": {},
   "outputs": [
    {
     "data": {
      "text/plain": [
       "2"
      ]
     },
     "execution_count": 11,
     "metadata": {},
     "output_type": "execute_result"
    }
   ],
   "source": [
    "list1[4][1]"
   ]
  },
  {
   "cell_type": "code",
   "execution_count": 12,
   "id": "8b534878",
   "metadata": {},
   "outputs": [
    {
     "data": {
      "text/plain": [
       "4"
      ]
     },
     "execution_count": 12,
     "metadata": {},
     "output_type": "execute_result"
    }
   ],
   "source": [
    "list1[4][3]"
   ]
  },
  {
   "cell_type": "code",
   "execution_count": null,
   "id": "c8234d71",
   "metadata": {},
   "outputs": [],
   "source": [
    "list2=[1,51,9,8,1,201,534,4,[8,4,101,2,]]"
   ]
  }
 ],
 "metadata": {
  "kernelspec": {
   "display_name": "Python 3 (ipykernel)",
   "language": "python",
   "name": "python3"
  },
  "language_info": {
   "codemirror_mode": {
    "name": "ipython",
    "version": 3
   },
   "file_extension": ".py",
   "mimetype": "text/x-python",
   "name": "python",
   "nbconvert_exporter": "python",
   "pygments_lexer": "ipython3",
   "version": "3.9.12"
  }
 },
 "nbformat": 4,
 "nbformat_minor": 5
}
